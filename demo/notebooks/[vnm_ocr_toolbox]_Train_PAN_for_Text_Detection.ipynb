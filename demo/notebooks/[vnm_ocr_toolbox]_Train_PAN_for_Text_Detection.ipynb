{
  "nbformat": 4,
  "nbformat_minor": 0,
  "metadata": {
    "accelerator": "GPU",
    "colab": {
      "name": "[vnm_ocr_toolbox]_Train_PAN_for_Text_Detection.ipynb",
      "provenance": [],
      "collapsed_sections": [
        "ahMQhr-NCFwI",
        "QPa7rM_uCNNH",
        "iw40GOLRCKMH",
        "kujk1GUmCvDJ",
        "PiompDtITA85"
      ]
    },
    "kernelspec": {
      "display_name": "Python 3",
      "name": "python3"
    },
    "language_info": {
      "name": "python"
    },
    "widgets": {
      "application/vnd.jupyter.widget-state+json": {
        "d817e0934a314fa4b451855c820cbb7c": {
          "model_module": "@jupyter-widgets/controls",
          "model_name": "HBoxModel",
          "state": {
            "_view_name": "HBoxView",
            "_dom_classes": [],
            "_model_name": "HBoxModel",
            "_view_module": "@jupyter-widgets/controls",
            "_model_module_version": "1.5.0",
            "_view_count": null,
            "_view_module_version": "1.5.0",
            "box_style": "",
            "layout": "IPY_MODEL_9e2273e467164202b791bbf5c9c10f74",
            "_model_module": "@jupyter-widgets/controls",
            "children": [
              "IPY_MODEL_ee88d03b18b847bca6499db7d681a662",
              "IPY_MODEL_e8314e83f46048c3ab8859f91bd735de"
            ]
          }
        },
        "9e2273e467164202b791bbf5c9c10f74": {
          "model_module": "@jupyter-widgets/base",
          "model_name": "LayoutModel",
          "state": {
            "_view_name": "LayoutView",
            "grid_template_rows": null,
            "right": null,
            "justify_content": null,
            "_view_module": "@jupyter-widgets/base",
            "overflow": null,
            "_model_module_version": "1.2.0",
            "_view_count": null,
            "flex_flow": null,
            "width": null,
            "min_width": null,
            "border": null,
            "align_items": null,
            "bottom": null,
            "_model_module": "@jupyter-widgets/base",
            "top": null,
            "grid_column": null,
            "overflow_y": null,
            "overflow_x": null,
            "grid_auto_flow": null,
            "grid_area": null,
            "grid_template_columns": null,
            "flex": null,
            "_model_name": "LayoutModel",
            "justify_items": null,
            "grid_row": null,
            "max_height": null,
            "align_content": null,
            "visibility": null,
            "align_self": null,
            "height": null,
            "min_height": null,
            "padding": null,
            "grid_auto_rows": null,
            "grid_gap": null,
            "max_width": null,
            "order": null,
            "_view_module_version": "1.2.0",
            "grid_template_areas": null,
            "object_position": null,
            "object_fit": null,
            "grid_auto_columns": null,
            "margin": null,
            "display": null,
            "left": null
          }
        },
        "ee88d03b18b847bca6499db7d681a662": {
          "model_module": "@jupyter-widgets/controls",
          "model_name": "FloatProgressModel",
          "state": {
            "_view_name": "ProgressView",
            "style": "IPY_MODEL_1ab1432c07a1479990c4740f2de9680a",
            "_dom_classes": [],
            "description": "100%",
            "_model_name": "FloatProgressModel",
            "bar_style": "success",
            "max": 46827520,
            "_view_module": "@jupyter-widgets/controls",
            "_model_module_version": "1.5.0",
            "value": 46827520,
            "_view_count": null,
            "_view_module_version": "1.5.0",
            "orientation": "horizontal",
            "min": 0,
            "description_tooltip": null,
            "_model_module": "@jupyter-widgets/controls",
            "layout": "IPY_MODEL_bab7c3fa58c84702aab7ef7eaf0763e1"
          }
        },
        "e8314e83f46048c3ab8859f91bd735de": {
          "model_module": "@jupyter-widgets/controls",
          "model_name": "HTMLModel",
          "state": {
            "_view_name": "HTMLView",
            "style": "IPY_MODEL_7ae26371592b4024aa15b11f3df24cc2",
            "_dom_classes": [],
            "description": "",
            "_model_name": "HTMLModel",
            "placeholder": "​",
            "_view_module": "@jupyter-widgets/controls",
            "_model_module_version": "1.5.0",
            "value": " 44.7M/44.7M [00:00&lt;00:00, 125MB/s]",
            "_view_count": null,
            "_view_module_version": "1.5.0",
            "description_tooltip": null,
            "_model_module": "@jupyter-widgets/controls",
            "layout": "IPY_MODEL_97d17784ad6e46efb259820c9446a8fe"
          }
        },
        "1ab1432c07a1479990c4740f2de9680a": {
          "model_module": "@jupyter-widgets/controls",
          "model_name": "ProgressStyleModel",
          "state": {
            "_view_name": "StyleView",
            "_model_name": "ProgressStyleModel",
            "description_width": "initial",
            "_view_module": "@jupyter-widgets/base",
            "_model_module_version": "1.5.0",
            "_view_count": null,
            "_view_module_version": "1.2.0",
            "bar_color": null,
            "_model_module": "@jupyter-widgets/controls"
          }
        },
        "bab7c3fa58c84702aab7ef7eaf0763e1": {
          "model_module": "@jupyter-widgets/base",
          "model_name": "LayoutModel",
          "state": {
            "_view_name": "LayoutView",
            "grid_template_rows": null,
            "right": null,
            "justify_content": null,
            "_view_module": "@jupyter-widgets/base",
            "overflow": null,
            "_model_module_version": "1.2.0",
            "_view_count": null,
            "flex_flow": null,
            "width": null,
            "min_width": null,
            "border": null,
            "align_items": null,
            "bottom": null,
            "_model_module": "@jupyter-widgets/base",
            "top": null,
            "grid_column": null,
            "overflow_y": null,
            "overflow_x": null,
            "grid_auto_flow": null,
            "grid_area": null,
            "grid_template_columns": null,
            "flex": null,
            "_model_name": "LayoutModel",
            "justify_items": null,
            "grid_row": null,
            "max_height": null,
            "align_content": null,
            "visibility": null,
            "align_self": null,
            "height": null,
            "min_height": null,
            "padding": null,
            "grid_auto_rows": null,
            "grid_gap": null,
            "max_width": null,
            "order": null,
            "_view_module_version": "1.2.0",
            "grid_template_areas": null,
            "object_position": null,
            "object_fit": null,
            "grid_auto_columns": null,
            "margin": null,
            "display": null,
            "left": null
          }
        },
        "7ae26371592b4024aa15b11f3df24cc2": {
          "model_module": "@jupyter-widgets/controls",
          "model_name": "DescriptionStyleModel",
          "state": {
            "_view_name": "StyleView",
            "_model_name": "DescriptionStyleModel",
            "description_width": "",
            "_view_module": "@jupyter-widgets/base",
            "_model_module_version": "1.5.0",
            "_view_count": null,
            "_view_module_version": "1.2.0",
            "_model_module": "@jupyter-widgets/controls"
          }
        },
        "97d17784ad6e46efb259820c9446a8fe": {
          "model_module": "@jupyter-widgets/base",
          "model_name": "LayoutModel",
          "state": {
            "_view_name": "LayoutView",
            "grid_template_rows": null,
            "right": null,
            "justify_content": null,
            "_view_module": "@jupyter-widgets/base",
            "overflow": null,
            "_model_module_version": "1.2.0",
            "_view_count": null,
            "flex_flow": null,
            "width": null,
            "min_width": null,
            "border": null,
            "align_items": null,
            "bottom": null,
            "_model_module": "@jupyter-widgets/base",
            "top": null,
            "grid_column": null,
            "overflow_y": null,
            "overflow_x": null,
            "grid_auto_flow": null,
            "grid_area": null,
            "grid_template_columns": null,
            "flex": null,
            "_model_name": "LayoutModel",
            "justify_items": null,
            "grid_row": null,
            "max_height": null,
            "align_content": null,
            "visibility": null,
            "align_self": null,
            "height": null,
            "min_height": null,
            "padding": null,
            "grid_auto_rows": null,
            "grid_gap": null,
            "max_width": null,
            "order": null,
            "_view_module_version": "1.2.0",
            "grid_template_areas": null,
            "object_position": null,
            "object_fit": null,
            "grid_auto_columns": null,
            "margin": null,
            "display": null,
            "left": null
          }
        }
      }
    }
  },
  "cells": [
    {
      "cell_type": "code",
      "metadata": {
        "colab": {
          "base_uri": "https://localhost:8080/"
        },
        "id": "u9mrzttnCDoE",
        "outputId": "e06adee4-ff8a-4cc6-86b1-ed83d294e2cf"
      },
      "source": [
        "!nvidia-smi"
      ],
      "execution_count": null,
      "outputs": [
        {
          "output_type": "stream",
          "text": [
            "Wed Jun 16 11:39:38 2021       \n",
            "+-----------------------------------------------------------------------------+\n",
            "| NVIDIA-SMI 465.27       Driver Version: 460.32.03    CUDA Version: 11.2     |\n",
            "|-------------------------------+----------------------+----------------------+\n",
            "| GPU  Name        Persistence-M| Bus-Id        Disp.A | Volatile Uncorr. ECC |\n",
            "| Fan  Temp  Perf  Pwr:Usage/Cap|         Memory-Usage | GPU-Util  Compute M. |\n",
            "|                               |                      |               MIG M. |\n",
            "|===============================+======================+======================|\n",
            "|   0  Tesla T4            Off  | 00000000:00:04.0 Off |                    0 |\n",
            "| N/A   62C    P8    11W /  70W |      0MiB / 15109MiB |      0%      Default |\n",
            "|                               |                      |                  N/A |\n",
            "+-------------------------------+----------------------+----------------------+\n",
            "                                                                               \n",
            "+-----------------------------------------------------------------------------+\n",
            "| Processes:                                                                  |\n",
            "|  GPU   GI   CI        PID   Type   Process name                  GPU Memory |\n",
            "|        ID   ID                                                   Usage      |\n",
            "|=============================================================================|\n",
            "|  No running processes found                                                 |\n",
            "+-----------------------------------------------------------------------------+\n"
          ],
          "name": "stdout"
        }
      ]
    },
    {
      "cell_type": "markdown",
      "metadata": {
        "id": "ahMQhr-NCFwI"
      },
      "source": [
        "# Clone repo"
      ]
    },
    {
      "cell_type": "code",
      "metadata": {
        "colab": {
          "base_uri": "https://localhost:8080/"
        },
        "id": "QRHqoJP8c-4z",
        "outputId": "05948786-2eb4-438c-e9c2-e037754a96c8"
      },
      "source": [
        "!git clone https://github.com/kaylode/vnm-ocr-toolbox.git main\n",
        "%cd main"
      ],
      "execution_count": null,
      "outputs": [
        {
          "output_type": "stream",
          "text": [
            "Cloning into 'main'...\n",
            "remote: Enumerating objects: 1057, done.\u001b[K\n",
            "remote: Counting objects: 100% (1057/1057), done.\u001b[K\n",
            "remote: Compressing objects: 100% (712/712), done.\u001b[K\n",
            "remote: Total 1057 (delta 511), reused 827 (delta 300), pack-reused 0\u001b[K\n",
            "Receiving objects: 100% (1057/1057), 4.41 MiB | 21.43 MiB/s, done.\n",
            "Resolving deltas: 100% (511/511), done.\n",
            "/content/main\n"
          ],
          "name": "stdout"
        }
      ]
    },
    {
      "cell_type": "code",
      "metadata": {
        "colab": {
          "base_uri": "https://localhost:8080/"
        },
        "id": "3k7a3m5jd4ha",
        "outputId": "bc3b4d6d-a2d5-4aeb-94bd-cb9e7c181f92"
      },
      "source": [
        "%cd main\n",
        "!git checkout master\n",
        "!git reset --hard HEAD\n",
        "!git pull"
      ],
      "execution_count": null,
      "outputs": [
        {
          "output_type": "stream",
          "text": [
            "[Errno 2] No such file or directory: 'main'\n",
            "/content/main\n",
            "Already on 'master'\n",
            "Your branch is up to date with 'origin/master'.\n",
            "HEAD is now at c77a538 fix importing\n",
            "Already up to date.\n"
          ],
          "name": "stdout"
        }
      ]
    },
    {
      "cell_type": "markdown",
      "metadata": {
        "id": "QPa7rM_uCNNH"
      },
      "source": [
        "# Install dependencies"
      ]
    },
    {
      "cell_type": "code",
      "metadata": {
        "id": "c7-8JvToDpAP"
      },
      "source": [
        "%%capture\n",
        "%cd /content/main/\n",
        "!pip install -r requirements.txt"
      ],
      "execution_count": null,
      "outputs": []
    },
    {
      "cell_type": "markdown",
      "metadata": {
        "id": "iw40GOLRCKMH"
      },
      "source": [
        "# Load and prepare data"
      ]
    },
    {
      "cell_type": "code",
      "metadata": {
        "id": "hGMPEVkdEgWo"
      },
      "source": [
        "!mkdir '/content/main/data'\n",
        "%cd /content/main/data\n",
        "\n",
        "from google_drive_downloader import GoogleDriveDownloader as gdd\n",
        "\n",
        "gdd.download_file_from_google_drive(file_id='1bJunF1BZvVI5kx-AHCOkQXIKG7q0FkD5',\n",
        "                                    dest_path='./SROIE2019.zip',\n",
        "                                    unzip=True)"
      ],
      "execution_count": null,
      "outputs": []
    },
    {
      "cell_type": "code",
      "metadata": {
        "colab": {
          "base_uri": "https://localhost:8080/"
        },
        "id": "YicASuQEyo6n",
        "outputId": "73b8a69b-a994-43a6-aa62-9a37d8d789b8"
      },
      "source": [
        "%cd main\n",
        "from dataset.prepare import convert_sroie19_to_coco\n",
        "\n",
        "convert_sroie19_to_coco(\"/content/main/data/SROIE2019\", \"/content/main/data/sroie19\")"
      ],
      "execution_count": null,
      "outputs": [
        {
          "output_type": "stream",
          "text": [
            "\r0it [00:00, ?it/s]"
          ],
          "name": "stderr"
        },
        {
          "output_type": "stream",
          "text": [
            "/content/main\n"
          ],
          "name": "stdout"
        },
        {
          "output_type": "stream",
          "text": [
            "3it [00:00,  2.62it/s]"
          ],
          "name": "stderr"
        },
        {
          "output_type": "stream",
          "text": [
            "./data/SROIE2019/0325updated.task1train(626p)/X51005447840(1).jpg  is missing\n"
          ],
          "name": "stdout"
        },
        {
          "output_type": "stream",
          "text": [
            "\r6it [00:01,  3.26it/s]"
          ],
          "name": "stderr"
        },
        {
          "output_type": "stream",
          "text": [
            "./data/SROIE2019/0325updated.task1train(626p)/X51005719914(2).jpg  is missing\n"
          ],
          "name": "stdout"
        },
        {
          "output_type": "stream",
          "text": [
            "19it [00:01,  5.90it/s]"
          ],
          "name": "stderr"
        },
        {
          "output_type": "stream",
          "text": [
            "./data/SROIE2019/0325updated.task1train(626p)/X51007339112(1).jpg  is missing\n",
            "./data/SROIE2019/0325updated.task1train(626p)/X51005705760(2).jpg  is missing\n"
          ],
          "name": "stdout"
        },
        {
          "output_type": "stream",
          "text": [
            "29it [00:02, 10.58it/s]"
          ],
          "name": "stderr"
        },
        {
          "output_type": "stream",
          "text": [
            "./data/SROIE2019/0325updated.task1train(626p)/X51006329399(3).jpg  is missing\n",
            "./data/SROIE2019/0325updated.task1train(626p)/X51005447852(1).jpg  is missing\n",
            "./data/SROIE2019/0325updated.task1train(626p)/X51005677332(2).jpg  is missing\n"
          ],
          "name": "stdout"
        },
        {
          "output_type": "stream",
          "text": [
            "37it [00:02, 12.64it/s]"
          ],
          "name": "stderr"
        },
        {
          "output_type": "stream",
          "text": [
            "./data/SROIE2019/0325updated.task1train(626p)/X51006008091(1).jpg  is missing\n"
          ],
          "name": "stdout"
        },
        {
          "output_type": "stream",
          "text": [
            "60it [00:03, 24.77it/s]"
          ],
          "name": "stderr"
        },
        {
          "output_type": "stream",
          "text": [
            "./data/SROIE2019/0325updated.task1train(626p)/X51006556818(1).jpg  is missing\n",
            "./data/SROIE2019/0325updated.task1train(626p)/X51005722699(1).jpg  is missing\n"
          ],
          "name": "stdout"
        },
        {
          "output_type": "stream",
          "text": [
            "\r67it [00:03, 30.44it/s]"
          ],
          "name": "stderr"
        },
        {
          "output_type": "stream",
          "text": [
            "./data/SROIE2019/0325updated.task1train(626p)/X51007339639(2).jpg  is missing\n",
            "./data/SROIE2019/0325updated.task1train(626p)/X51005677329(2).jpg  is missing\n",
            "./data/SROIE2019/0325updated.task1train(626p)/X51006555818(1).jpg  is missing\n"
          ],
          "name": "stdout"
        },
        {
          "output_type": "stream",
          "text": [
            "\r74it [00:03, 23.64it/s]"
          ],
          "name": "stderr"
        },
        {
          "output_type": "stream",
          "text": [
            "./data/SROIE2019/0325updated.task1train(626p)/X51007231338(2).jpg  is missing\n",
            "./data/SROIE2019/0325updated.task1train(626p)/X51006557210(1).jpg  is missing\n"
          ],
          "name": "stdout"
        },
        {
          "output_type": "stream",
          "text": [
            "101it [00:05, 28.53it/s]"
          ],
          "name": "stderr"
        },
        {
          "output_type": "stream",
          "text": [
            "./data/SROIE2019/0325updated.task1train(626p)/X51005587254(2).jpg  is missing\n"
          ],
          "name": "stdout"
        },
        {
          "output_type": "stream",
          "text": [
            "114it [00:05, 25.62it/s]"
          ],
          "name": "stderr"
        },
        {
          "output_type": "stream",
          "text": [
            "./data/SROIE2019/0325updated.task1train(626p)/X51005587267(1).jpg  is missing\n",
            "./data/SROIE2019/0325updated.task1train(626p)/X51007339642(1).jpg  is missing\n"
          ],
          "name": "stdout"
        },
        {
          "output_type": "stream",
          "text": [
            "138it [00:06, 34.85it/s]"
          ],
          "name": "stderr"
        },
        {
          "output_type": "stream",
          "text": [
            "./data/SROIE2019/0325updated.task1train(626p)/X51005442361(1).jpg  is missing\n",
            "./data/SROIE2019/0325updated.task1train(626p)/X51005587254(3).jpg  is missing\n",
            "./data/SROIE2019/0325updated.task1train(626p)/X51006555817(1).jpg  is missing\n"
          ],
          "name": "stdout"
        },
        {
          "output_type": "stream",
          "text": [
            "161it [00:07, 25.42it/s]"
          ],
          "name": "stderr"
        },
        {
          "output_type": "stream",
          "text": [
            "./data/SROIE2019/0325updated.task1train(626p)/X51006620189(1).jpg  is missing\n"
          ],
          "name": "stdout"
        },
        {
          "output_type": "stream",
          "text": [
            "172it [00:07, 23.30it/s]"
          ],
          "name": "stderr"
        },
        {
          "output_type": "stream",
          "text": [
            "./data/SROIE2019/0325updated.task1train(626p)/X51005605285(4).jpg  is missing\n",
            "./data/SROIE2019/0325updated.task1train(626p)/X51005705722(2).jpg  is missing\n"
          ],
          "name": "stdout"
        },
        {
          "output_type": "stream",
          "text": [
            "188it [00:08, 26.72it/s]"
          ],
          "name": "stderr"
        },
        {
          "output_type": "stream",
          "text": [
            "./data/SROIE2019/0325updated.task1train(626p)/X51005806678(1).jpg  is missing\n"
          ],
          "name": "stdout"
        },
        {
          "output_type": "stream",
          "text": [
            "201it [00:08, 36.92it/s]"
          ],
          "name": "stderr"
        },
        {
          "output_type": "stream",
          "text": [
            "./data/SROIE2019/0325updated.task1train(626p)/X51005605286(5).jpg  is missing\n",
            "./data/SROIE2019/0325updated.task1train(626p)/X51006329402(3).jpg  is missing\n",
            "./data/SROIE2019/0325updated.task1train(626p)/X51007225442(2).jpg  is missing\n"
          ],
          "name": "stdout"
        },
        {
          "output_type": "stream",
          "text": [
            "\r207it [00:09, 24.83it/s]"
          ],
          "name": "stderr"
        },
        {
          "output_type": "stream",
          "text": [
            "./data/SROIE2019/0325updated.task1train(626p)/X51007339166(1).jpg  is missing\n"
          ],
          "name": "stdout"
        },
        {
          "output_type": "stream",
          "text": [
            "231it [00:09, 33.74it/s]"
          ],
          "name": "stderr"
        },
        {
          "output_type": "stream",
          "text": [
            "./data/SROIE2019/0325updated.task1train(626p)/X51005757304(1).jpg  is missing\n",
            "./data/SROIE2019/0325updated.task1train(626p)/X51007231338(1).jpg  is missing\n",
            "./data/SROIE2019/0325updated.task1train(626p)/X51006556656(1).jpg  is missing\n",
            "./data/SROIE2019/0325updated.task1train(626p)/X51007339162(1).jpg  is missing\n",
            "./data/SROIE2019/0325updated.task1train(626p)/X51006332575(3).jpg  is missing\n"
          ],
          "name": "stdout"
        },
        {
          "output_type": "stream",
          "text": [
            "\r239it [00:10, 38.11it/s]"
          ],
          "name": "stderr"
        },
        {
          "output_type": "stream",
          "text": [
            "./data/SROIE2019/0325updated.task1train(626p)/X51007419197(1).jpg  is missing\n",
            "./data/SROIE2019/0325updated.task1train(626p)/X51007339656(1).jpg  is missing\n"
          ],
          "name": "stdout"
        },
        {
          "output_type": "stream",
          "text": [
            "253it [00:10, 30.32it/s]"
          ],
          "name": "stderr"
        },
        {
          "output_type": "stream",
          "text": [
            "./data/SROIE2019/0325updated.task1train(626p)/X51008099049(1).jpg  is missing\n",
            "./data/SROIE2019/0325updated.task1train(626p)/X51005806679(2).jpg  is missing\n",
            "./data/SROIE2019/0325updated.task1train(626p)/X51007228448(2).jpg  is missing\n"
          ],
          "name": "stdout"
        },
        {
          "output_type": "stream",
          "text": [
            "\r258it [00:11, 21.04it/s]"
          ],
          "name": "stderr"
        },
        {
          "output_type": "stream",
          "text": [
            "./data/SROIE2019/0325updated.task1train(626p)/X51007339166(2).jpg  is missing\n"
          ],
          "name": "stdout"
        },
        {
          "output_type": "stream",
          "text": [
            "269it [00:11, 20.35it/s]"
          ],
          "name": "stderr"
        },
        {
          "output_type": "stream",
          "text": [
            "./data/SROIE2019/0325updated.task1train(626p)/X51005605286(4).jpg  is missing\n",
            "./data/SROIE2019/0325updated.task1train(626p)/X51005587267(2).jpg  is missing\n"
          ],
          "name": "stdout"
        },
        {
          "output_type": "stream",
          "text": [
            "283it [00:13, 11.54it/s]"
          ],
          "name": "stderr"
        },
        {
          "output_type": "stream",
          "text": [
            "./data/SROIE2019/0325updated.task1train(626p)/X51005587254(5).jpg  is missing\n",
            "./data/SROIE2019/0325updated.task1train(626p)/X51006619566(1).jpg  is missing\n"
          ],
          "name": "stdout"
        },
        {
          "output_type": "stream",
          "text": [
            "308it [00:14, 20.59it/s]"
          ],
          "name": "stderr"
        },
        {
          "output_type": "stream",
          "text": [
            "./data/SROIE2019/0325updated.task1train(626p)/X51006311758(1).jpg  is missing\n",
            "./data/SROIE2019/0325updated.task1train(626p)/X51005677331(2).jpg  is missing\n",
            "./data/SROIE2019/0325updated.task1train(626p)/X51005587254(1).jpg  is missing\n"
          ],
          "name": "stdout"
        },
        {
          "output_type": "stream",
          "text": [
            "317it [00:15, 12.82it/s]"
          ],
          "name": "stderr"
        },
        {
          "output_type": "stream",
          "text": [
            "./data/SROIE2019/0325updated.task1train(626p)/X51005447848(1).jpg  is missing\n",
            "./data/SROIE2019/0325updated.task1train(626p)/X51006556591(1).jpg  is missing\n",
            "./data/SROIE2019/0325updated.task1train(626p)/X51005663317(1).jpg  is missing\n"
          ],
          "name": "stdout"
        },
        {
          "output_type": "stream",
          "text": [
            "339it [00:15, 23.27it/s]"
          ],
          "name": "stderr"
        },
        {
          "output_type": "stream",
          "text": [
            "./data/SROIE2019/0325updated.task1train(626p)/X51006329399(2).jpg  is missing\n",
            "./data/SROIE2019/0325updated.task1train(626p)/X51005806678(2).jpg  is missing\n"
          ],
          "name": "stdout"
        },
        {
          "output_type": "stream",
          "text": [
            "349it [00:16, 30.99it/s]"
          ],
          "name": "stderr"
        },
        {
          "output_type": "stream",
          "text": [
            "./data/SROIE2019/0325updated.task1train(626p)/X51005568900(1).jpg  is missing\n",
            "./data/SROIE2019/0325updated.task1train(626p)/X51006557508(1).jpg  is missing\n",
            "./data/SROIE2019/0325updated.task1train(626p)/X51006556726(1).jpg  is missing\n"
          ],
          "name": "stdout"
        },
        {
          "output_type": "stream",
          "text": [
            "360it [00:16, 18.39it/s]"
          ],
          "name": "stderr"
        },
        {
          "output_type": "stream",
          "text": [
            "./data/SROIE2019/0325updated.task1train(626p)/X51006557202(1).jpg  is missing\n",
            "./data/SROIE2019/0325updated.task1train(626p)/X51006332649(2).jpg  is missing\n"
          ],
          "name": "stdout"
        },
        {
          "output_type": "stream",
          "text": [
            "368it [00:17, 12.86it/s]"
          ],
          "name": "stderr"
        },
        {
          "output_type": "stream",
          "text": [
            "./data/SROIE2019/0325updated.task1train(626p)/X51005605284(5).jpg  is missing\n",
            "./data/SROIE2019/0325updated.task1train(626p)/X51006557199(1).jpg  is missing\n",
            "./data/SROIE2019/0325updated.task1train(626p)/X51005447850(1).jpg  is missing\n"
          ],
          "name": "stdout"
        },
        {
          "output_type": "stream",
          "text": [
            "\r376it [00:18, 14.01it/s]"
          ],
          "name": "stderr"
        },
        {
          "output_type": "stream",
          "text": [
            "./data/SROIE2019/0325updated.task1train(626p)/X51008099073(1).jpg  is missing\n",
            "./data/SROIE2019/0325updated.task1train(626p)/X51007339165(1).jpg  is missing\n"
          ],
          "name": "stdout"
        },
        {
          "output_type": "stream",
          "text": [
            "401it [00:19, 15.03it/s]"
          ],
          "name": "stderr"
        },
        {
          "output_type": "stream",
          "text": [
            "./data/SROIE2019/0325updated.task1train(626p)/X51006557213(1).jpg  is missing\n",
            "./data/SROIE2019/0325updated.task1train(626p)/X51006620187(1).jpg  is missing\n",
            "./data/SROIE2019/0325updated.task1train(626p)/X51008099054(1).jpg  is missing\n",
            "./data/SROIE2019/0325updated.task1train(626p)/X51006008197(1).jpg  is missing\n",
            "./data/SROIE2019/0325updated.task1train(626p)/X51006556841(1).jpg  is missing\n",
            "./data/SROIE2019/0325updated.task1train(626p)/X51006619563(1).jpg  is missing\n",
            "./data/SROIE2019/0325updated.task1train(626p)/X51006332575(2).jpg  is missing\n"
          ],
          "name": "stdout"
        },
        {
          "output_type": "stream",
          "text": [
            "423it [00:20, 26.38it/s]"
          ],
          "name": "stderr"
        },
        {
          "output_type": "stream",
          "text": [
            "./data/SROIE2019/0325updated.task1train(626p)/X51007339642(2).jpg  is missing\n"
          ],
          "name": "stdout"
        },
        {
          "output_type": "stream",
          "text": [
            "\r429it [00:20, 20.64it/s]"
          ],
          "name": "stderr"
        },
        {
          "output_type": "stream",
          "text": [
            "./data/SROIE2019/0325updated.task1train(626p)/X51005705804(1).jpg  is missing\n",
            "./data/SROIE2019/0325updated.task1train(626p)/X51005757346(1).jpg  is missing\n",
            "./data/SROIE2019/0325updated.task1train(626p)/X51007339115(1).jpg  is missing\n"
          ],
          "name": "stdout"
        },
        {
          "output_type": "stream",
          "text": [
            "442it [00:21, 16.54it/s]"
          ],
          "name": "stderr"
        },
        {
          "output_type": "stream",
          "text": [
            "./data/SROIE2019/0325updated.task1train(626p)/X51006556838(1).jpg  is missing\n",
            "./data/SROIE2019/0325updated.task1train(626p)/X51006556839(1).jpg  is missing\n"
          ],
          "name": "stdout"
        },
        {
          "output_type": "stream",
          "text": [
            "456it [00:21, 20.94it/s]"
          ],
          "name": "stderr"
        },
        {
          "output_type": "stream",
          "text": [
            "./data/SROIE2019/0325updated.task1train(626p)/X51006329402(2).jpg  is missing\n",
            "./data/SROIE2019/0325updated.task1train(626p)/X51005705760(1).jpg  is missing\n",
            "./data/SROIE2019/0325updated.task1train(626p)/X51008099071(1).jpg  is missing\n",
            "./data/SROIE2019/0325updated.task1train(626p)/X51007339639(1).jpg  is missing\n",
            "./data/SROIE2019/0325updated.task1train(626p)/X51006008095(1).jpg  is missing\n"
          ],
          "name": "stdout"
        },
        {
          "output_type": "stream",
          "text": [
            "469it [00:22, 19.77it/s]"
          ],
          "name": "stderr"
        },
        {
          "output_type": "stream",
          "text": [
            "./data/SROIE2019/0325updated.task1train(626p)/X51005757323(1).jpg  is missing\n",
            "./data/SROIE2019/0325updated.task1train(626p)/X51005719914(1).jpg  is missing\n"
          ],
          "name": "stdout"
        },
        {
          "output_type": "stream",
          "text": [
            "\r474it [00:22, 16.85it/s]"
          ],
          "name": "stderr"
        },
        {
          "output_type": "stream",
          "text": [
            "./data/SROIE2019/0325updated.task1train(626p)/X51007103675(1).jpg  is missing\n"
          ],
          "name": "stdout"
        },
        {
          "output_type": "stream",
          "text": [
            "496it [00:24, 12.69it/s]"
          ],
          "name": "stderr"
        },
        {
          "output_type": "stream",
          "text": [
            "./data/SROIE2019/0325updated.task1train(626p)/X51007225417(2).jpg  is missing\n"
          ],
          "name": "stdout"
        },
        {
          "output_type": "stream",
          "text": [
            "509it [00:25, 16.45it/s]"
          ],
          "name": "stderr"
        },
        {
          "output_type": "stream",
          "text": [
            "./data/SROIE2019/0325updated.task1train(626p)/X51005587254(4).jpg  is missing\n",
            "./data/SROIE2019/0325updated.task1train(626p)/X51005722668(1).jpg  is missing\n",
            "./data/SROIE2019/0325updated.task1train(626p)/X51007231336(2).jpg  is missing\n",
            "./data/SROIE2019/0325updated.task1train(626p)/X51006620186(1).jpg  is missing\n",
            "./data/SROIE2019/0325updated.task1train(626p)/X51006008089(1).jpg  is missing\n",
            "./data/SROIE2019/0325updated.task1train(626p)/X51006619694(1).jpg  is missing\n"
          ],
          "name": "stdout"
        },
        {
          "output_type": "stream",
          "text": [
            "547it [00:27, 23.13it/s]"
          ],
          "name": "stderr"
        },
        {
          "output_type": "stream",
          "text": [
            "./data/SROIE2019/0325updated.task1train(626p)/X51005587267(5).jpg  is missing\n",
            "./data/SROIE2019/0325updated.task1train(626p)/X51005677335(2).jpg  is missing\n"
          ],
          "name": "stdout"
        },
        {
          "output_type": "stream",
          "text": [
            "\r552it [00:27, 17.82it/s]"
          ],
          "name": "stderr"
        },
        {
          "output_type": "stream",
          "text": [
            "./data/SROIE2019/0325updated.task1train(626p)/X51006619550(1).jpg  is missing\n"
          ],
          "name": "stdout"
        },
        {
          "output_type": "stream",
          "text": [
            "559it [00:28, 11.26it/s]"
          ],
          "name": "stderr"
        },
        {
          "output_type": "stream",
          "text": [
            "./data/SROIE2019/0325updated.task1train(626p)/X51005719917(1).jpg  is missing\n"
          ],
          "name": "stdout"
        },
        {
          "output_type": "stream",
          "text": [
            "\r565it [00:29, 12.01it/s]"
          ],
          "name": "stderr"
        },
        {
          "output_type": "stream",
          "text": [
            "./data/SROIE2019/0325updated.task1train(626p)/X51007339643(1).jpg  is missing\n"
          ],
          "name": "stdout"
        },
        {
          "output_type": "stream",
          "text": [
            "574it [00:29, 11.94it/s]"
          ],
          "name": "stderr"
        },
        {
          "output_type": "stream",
          "text": [
            "./data/SROIE2019/0325updated.task1train(626p)/X51006556823(1).jpg  is missing\n",
            "./data/SROIE2019/0325updated.task1train(626p)/X51005605285(5).jpg  is missing\n",
            "./data/SROIE2019/0325updated.task1train(626p)/X51006556815(1).jpg  is missing\n"
          ],
          "name": "stdout"
        },
        {
          "output_type": "stream",
          "text": [
            "594it [00:29, 25.09it/s]"
          ],
          "name": "stderr"
        },
        {
          "output_type": "stream",
          "text": [
            "./data/SROIE2019/0325updated.task1train(626p)/X51007225417(1).jpg  is missing\n",
            "./data/SROIE2019/0325updated.task1train(626p)/X51006332649(3).jpg  is missing\n"
          ],
          "name": "stdout"
        },
        {
          "output_type": "stream",
          "text": [
            "620it [00:30, 34.18it/s]"
          ],
          "name": "stderr"
        },
        {
          "output_type": "stream",
          "text": [
            "./data/SROIE2019/0325updated.task1train(626p)/X51006329395(3).jpg  is missing\n",
            "./data/SROIE2019/0325updated.task1train(626p)/X51005719917(2).jpg  is missing\n",
            "./data/SROIE2019/0325updated.task1train(626p)/X51005722668(2).jpg  is missing\n",
            "./data/SROIE2019/0325updated.task1train(626p)/X51006556738(1).jpg  is missing\n"
          ],
          "name": "stdout"
        },
        {
          "output_type": "stream",
          "text": [
            "632it [00:30, 41.12it/s]"
          ],
          "name": "stderr"
        },
        {
          "output_type": "stream",
          "text": [
            "./data/SROIE2019/0325updated.task1train(626p)/X51006620181(1).jpg  is missing\n",
            "./data/SROIE2019/0325updated.task1train(626p)/X51006619561(1).jpg  is missing\n",
            "./data/SROIE2019/0325updated.task1train(626p)/X51005677329(1).jpg  is missing\n"
          ],
          "name": "stdout"
        },
        {
          "output_type": "stream",
          "text": [
            "648it [00:31, 41.02it/s]"
          ],
          "name": "stderr"
        },
        {
          "output_type": "stream",
          "text": [
            "./data/SROIE2019/0325updated.task1train(626p)/X51005719912(1).jpg  is missing\n"
          ],
          "name": "stdout"
        },
        {
          "output_type": "stream",
          "text": [
            "674it [00:32, 16.10it/s]"
          ],
          "name": "stderr"
        },
        {
          "output_type": "stream",
          "text": [
            "./data/SROIE2019/0325updated.task1train(626p)/X51005361946(1).jpg  is missing\n"
          ],
          "name": "stdout"
        },
        {
          "output_type": "stream",
          "text": [
            "682it [00:33, 15.91it/s]"
          ],
          "name": "stderr"
        },
        {
          "output_type": "stream",
          "text": [
            "./data/SROIE2019/0325updated.task1train(626p)/X51005719912(2).jpg  is missing\n",
            "./data/SROIE2019/0325updated.task1train(626p)/X51006556861(1).jpg  is missing\n"
          ],
          "name": "stdout"
        },
        {
          "output_type": "stream",
          "text": [
            "699it [00:33, 19.53it/s]"
          ],
          "name": "stderr"
        },
        {
          "output_type": "stream",
          "text": [
            "./data/SROIE2019/0325updated.task1train(626p)/X51007339643(2).jpg  is missing\n",
            "./data/SROIE2019/0325updated.task1train(626p)/X51005447839(1).jpg  is missing\n",
            "./data/SROIE2019/0325updated.task1train(626p)/X51007339167(2).jpg  is missing\n"
          ],
          "name": "stdout"
        },
        {
          "output_type": "stream",
          "text": [
            "717it [00:34, 23.38it/s]"
          ],
          "name": "stderr"
        },
        {
          "output_type": "stream",
          "text": [
            "./data/SROIE2019/0325updated.task1train(626p)/X51005757324(1).jpg  is missing\n"
          ],
          "name": "stdout"
        },
        {
          "output_type": "stream",
          "text": [
            "\r722it [00:35, 13.17it/s]"
          ],
          "name": "stderr"
        },
        {
          "output_type": "stream",
          "text": [
            "./data/SROIE2019/0325updated.task1train(626p)/X51007103691(1).jpg  is missing\n"
          ],
          "name": "stdout"
        },
        {
          "output_type": "stream",
          "text": [
            "\r726it [00:35, 12.21it/s]"
          ],
          "name": "stderr"
        },
        {
          "output_type": "stream",
          "text": [
            "./data/SROIE2019/0325updated.task1train(626p)/X51006556650(1).jpg  is missing\n"
          ],
          "name": "stdout"
        },
        {
          "output_type": "stream",
          "text": [
            "749it [00:36, 23.38it/s]"
          ],
          "name": "stderr"
        },
        {
          "output_type": "stream",
          "text": [
            "./data/SROIE2019/0325updated.task1train(626p)/X51006556730(1).jpg  is missing\n",
            "./data/SROIE2019/0325updated.task1train(626p)/X51006556840(1).jpg  is missing\n"
          ],
          "name": "stdout"
        },
        {
          "output_type": "stream",
          "text": [
            "\r757it [00:36, 29.55it/s]"
          ],
          "name": "stderr"
        },
        {
          "output_type": "stream",
          "text": [
            "./data/SROIE2019/0325updated.task1train(626p)/X51006334699(3).jpg  is missing\n",
            "./data/SROIE2019/0325updated.task1train(626p)/X51005705804(2).jpg  is missing\n",
            "./data/SROIE2019/0325updated.task1train(626p)/X51006556646(1).jpg  is missing\n"
          ],
          "name": "stdout"
        },
        {
          "output_type": "stream",
          "text": [
            "769it [00:37, 26.16it/s]"
          ],
          "name": "stderr"
        },
        {
          "output_type": "stream",
          "text": [
            "./data/SROIE2019/0325updated.task1train(626p)/X51007339157(1).jpg  is missing\n"
          ],
          "name": "stdout"
        },
        {
          "output_type": "stream",
          "text": [
            "\r774it [00:37, 19.16it/s]"
          ],
          "name": "stderr"
        },
        {
          "output_type": "stream",
          "text": [
            "./data/SROIE2019/0325updated.task1train(626p)/X51006556732(1).jpg  is missing\n"
          ],
          "name": "stdout"
        },
        {
          "output_type": "stream",
          "text": [
            "796it [00:38, 22.15it/s]"
          ],
          "name": "stderr"
        },
        {
          "output_type": "stream",
          "text": [
            "./data/SROIE2019/0325updated.task1train(626p)/X51007103688(1).jpg  is missing\n"
          ],
          "name": "stdout"
        },
        {
          "output_type": "stream",
          "text": [
            "812it [00:40,  9.19it/s]"
          ],
          "name": "stderr"
        },
        {
          "output_type": "stream",
          "text": [
            "./data/SROIE2019/0325updated.task1train(626p)/X51005587267(3).jpg  is missing\n",
            "./data/SROIE2019/0325updated.task1train(626p)/X51005806679(1).jpg  is missing\n"
          ],
          "name": "stdout"
        },
        {
          "output_type": "stream",
          "text": [
            "831it [00:41, 16.88it/s]"
          ],
          "name": "stderr"
        },
        {
          "output_type": "stream",
          "text": [
            "./data/SROIE2019/0325updated.task1train(626p)/X51005757294(1).jpg  is missing\n",
            "./data/SROIE2019/0325updated.task1train(626p)/X51007339164(1).jpg  is missing\n",
            "./data/SROIE2019/0325updated.task1train(626p)/X51005587267(4).jpg  is missing\n"
          ],
          "name": "stdout"
        },
        {
          "output_type": "stream",
          "text": [
            "835it [00:41, 20.25it/s]\n",
            "35it [00:02,  9.13it/s]"
          ],
          "name": "stderr"
        },
        {
          "output_type": "stream",
          "text": [
            "./data/SROIE2019/0325updated.task1train(626p)/X51007339158(1).jpg  is missing\n",
            "./data/SROIE2019/task1_2_test(361p)/X51006619503.txt can't be read\n"
          ],
          "name": "stdout"
        },
        {
          "output_type": "stream",
          "text": [
            "206it [00:14, 14.10it/s]"
          ],
          "name": "stderr"
        },
        {
          "output_type": "stream",
          "text": [
            "./data/SROIE2019/task1_2_test(361p)/X51006328967.txt wrong format\n",
            "./data/SROIE2019/task1_2_test(361p)/X51006619570.jpg  is missing\n"
          ],
          "name": "stdout"
        },
        {
          "output_type": "stream",
          "text": [
            "361it [00:24, 14.90it/s]\n"
          ],
          "name": "stderr"
        }
      ]
    },
    {
      "cell_type": "markdown",
      "metadata": {
        "id": "kujk1GUmCvDJ"
      },
      "source": [
        "# Train Detection model"
      ]
    },
    {
      "cell_type": "code",
      "metadata": {
        "id": "NogpYXCTv0yx"
      },
      "source": [
        "%reload_ext tensorboard\n",
        "%tensorboard --logdir=\"./weights\""
      ],
      "execution_count": null,
      "outputs": []
    },
    {
      "cell_type": "code",
      "metadata": {
        "colab": {
          "base_uri": "https://localhost:8080/"
        },
        "id": "4DQ55jCKEZM0",
        "outputId": "fbb77787-07bc-45ea-ecae-b9ae7f25a84b"
      },
      "source": [
        "%cd main\n",
        "import os\n",
        "from tool.config import Config\n",
        "from modules.detection import get_model, get_loss, Trainer, get_dataloader, get_metric"
      ],
      "execution_count": null,
      "outputs": [
        {
          "output_type": "stream",
          "text": [
            "/content/main\n"
          ],
          "name": "stdout"
        }
      ]
    },
    {
      "cell_type": "code",
      "metadata": {
        "id": "0im6jFGTO_em"
      },
      "source": [
        "config = Config(\"./tool/config/detection/configs.yaml\")"
      ],
      "execution_count": null,
      "outputs": []
    },
    {
      "cell_type": "code",
      "metadata": {
        "id": "meGl_taTPbiE"
      },
      "source": [
        "class Arguments:\n",
        "    print_per_iter = 10\n",
        "    val_interval = 1\n",
        "    save_interval = 50\n",
        "    resume = None\n",
        "    saved_path = './weights'\n",
        "    freeze_backbone = True\n",
        "args = Arguments"
      ],
      "execution_count": null,
      "outputs": []
    },
    {
      "cell_type": "code",
      "metadata": {
        "colab": {
          "base_uri": "https://localhost:8080/",
          "height": 664,
          "referenced_widgets": [
            "d817e0934a314fa4b451855c820cbb7c",
            "9e2273e467164202b791bbf5c9c10f74",
            "ee88d03b18b847bca6499db7d681a662",
            "e8314e83f46048c3ab8859f91bd735de",
            "1ab1432c07a1479990c4740f2de9680a",
            "bab7c3fa58c84702aab7ef7eaf0763e1",
            "7ae26371592b4024aa15b11f3df24cc2",
            "97d17784ad6e46efb259820c9446a8fe"
          ]
        },
        "id": "rlsRFKL7O0l1",
        "outputId": "57cedcec-8d83-41d7-e5a4-0f302d506d0c"
      },
      "source": [
        "os.environ['CUDA_VISIBLE_DEVICES'] = config.gpu_devices\n",
        "\n",
        "\n",
        "trainloader, valloader = get_dataloader(config)\n",
        "\n",
        "criterion = get_loss(config.loss).cuda()\n",
        "metric = get_metric(config)\n",
        "\n",
        "model = get_model(config.model)\n",
        "\n",
        "trainer = Trainer(args=args,\n",
        "                  config=config,\n",
        "                  model=model,\n",
        "                  criterion=criterion,\n",
        "                  metric=metric,\n",
        "                  train_loader=trainloader,\n",
        "                  val_loader=valloader)\n",
        "trainer.train()"
      ],
      "execution_count": null,
      "outputs": [
        {
          "output_type": "stream",
          "text": [
            "loading annotations into memory...\n",
            "Done (t=0.23s)\n",
            "creating index...\n",
            "index created!\n",
            "loading annotations into memory...\n",
            "Done (t=0.05s)\n",
            "creating index...\n",
            "index created!\n",
            "loading annotations into memory...\n",
            "Done (t=0.04s)\n",
            "creating index...\n",
            "index created!\n"
          ],
          "name": "stdout"
        },
        {
          "output_type": "stream",
          "text": [
            "Downloading: \"https://download.pytorch.org/models/resnet18-5c106cde.pth\" to /root/.cache/torch/hub/checkpoints/resnet18-5c106cde.pth\n"
          ],
          "name": "stderr"
        },
        {
          "output_type": "display_data",
          "data": {
            "application/vnd.jupyter.widget-view+json": {
              "model_id": "d817e0934a314fa4b451855c820cbb7c",
              "version_minor": 0,
              "version_major": 2
            },
            "text/plain": [
              "HBox(children=(FloatProgress(value=0.0, max=46827520.0), HTML(value='')))"
            ]
          },
          "metadata": {
            "tags": []
          }
        },
        {
          "output_type": "stream",
          "text": [
            "2021-06-16 12:58:50 \u001b[32mINFO     \u001b[0m util.py[line:37]: logger init finished\u001b[0m\n",
            "2021-06-16 12:58:50 \u001b[32mINFO     \u001b[0m base_trainer.py[line:43]: <tool.config.config.Config object at 0x7fa9b71b4650>\u001b[0m\n"
          ],
          "name": "stderr"
        },
        {
          "output_type": "stream",
          "text": [
            "\n",
            "load pretrained models from imagenet\n"
          ],
          "name": "stdout"
        },
        {
          "output_type": "stream",
          "text": [
            "2021-06-16 12:58:50 \u001b[32mINFO     \u001b[0m base_trainer.py[line:53]: train with gpu 0 and pytorch 1.8.1+cu101\u001b[0m\n",
            "2021-06-16 12:58:50 \u001b[32mINFO     \u001b[0m base_trainer.py[line:62]: device cuda:0\u001b[0m\n",
            "2021-06-16 12:58:50 \u001b[32mINFO     \u001b[0m base_trainer.py[line:180]: Loading checkpoint: /content/drive/MyDrive/weights/pretrained/PANNet/PAN_resnet18_FPEM_FFM.pth ...\u001b[0m\n",
            "2021-06-16 12:59:06 \u001b[32mINFO     \u001b[0m base_trainer.py[line:198]: finetune from checkpoint /content/drive/MyDrive/weights/pretrained/PANNet/PAN_resnet18_FPEM_FFM.pth\u001b[0m\n",
            "2021-06-16 12:59:06 \u001b[32mINFO     \u001b[0m trainer.py[line:30]: train dataset has 704 samples,88 in dataloader\u001b[0m\n",
            "2021-06-16 12:59:06 \u001b[32mINFO     \u001b[0m trainer.py[line:33]: val dataset has 358 samples,23 in dataloader\u001b[0m\n",
            "2021-06-16 12:59:06 \u001b[32mINFO     \u001b[0m trainer.py[line:35]: number of trainable parameters: 344070\u001b[0m\n"
          ],
          "name": "stderr"
        },
        {
          "output_type": "stream",
          "text": [
            "freeze model's backbone\n"
          ],
          "name": "stdout"
        },
        {
          "output_type": "stream",
          "text": [
            "/usr/local/lib/python3.7/dist-packages/torch/nn/functional.py:3458: UserWarning: Default upsampling behavior when mode=bilinear is changed to align_corners=False since 0.4.0. Please specify align_corners=True if the old behavior is desired. See the documentation of nn.Upsample for details.\n",
            "  \"See the documentation of nn.Upsample for details.\".format(mode)\n",
            "2021-06-16 12:59:53 \u001b[32mINFO     \u001b[0m trainer.py[line:85]: [1/100], [10/88], global_step: 10, Speed: 1.7 samples/sec, acc: 0.6933, iou_text: 0.5957, iou_kernel: 0.6537, loss_all: 0.6323, loss_tex: 0.4055, loss_ker: 0.3607, loss_agg: 0.0831, loss_dis: 0.1024, lr:0.001, time:47.34\u001b[0m\n",
            "2021-06-16 13:00:42 \u001b[32mINFO     \u001b[0m trainer.py[line:85]: [1/100], [20/88], global_step: 20, Speed: 1.6 samples/sec, acc: 0.7942, iou_text: 0.6962, iou_kernel: 0.7271, loss_all: 0.5231, loss_tex: 0.2973, loss_ker: 0.3252, loss_agg: 0.1007, loss_dis: 0.1520, lr:0.001, time:49.04\u001b[0m\n",
            "2021-06-16 13:01:19 \u001b[32mINFO     \u001b[0m trainer.py[line:85]: [1/100], [30/88], global_step: 30, Speed: 2.2 samples/sec, acc: 0.8347, iou_text: 0.7428, iou_kernel: 0.7520, loss_all: 0.2727, loss_tex: 0.1245, loss_ker: 0.1549, loss_agg: 0.1609, loss_dis: 0.1219, lr:0.001, time:36.91\u001b[0m\n",
            "2021-06-16 13:01:58 \u001b[32mINFO     \u001b[0m trainer.py[line:85]: [1/100], [40/88], global_step: 40, Speed: 2.1 samples/sec, acc: 0.8551, iou_text: 0.7692, iou_kernel: 0.7693, loss_all: 0.2878, loss_tex: 0.1246, loss_ker: 0.1775, loss_agg: 0.0908, loss_dis: 0.2073, lr:0.001, time:38.73\u001b[0m\n"
          ],
          "name": "stderr"
        }
      ]
    },
    {
      "cell_type": "markdown",
      "metadata": {
        "id": "PiompDtITA85"
      },
      "source": [
        "# Inference"
      ]
    },
    {
      "cell_type": "code",
      "metadata": {
        "id": "vaREYkldswSN"
      },
      "source": [
        "# Load image\n",
        "\n",
        "import cv2\n",
        "img = cv2.imread(\"/content/main/data/sroie19/images/val/X00016469670.jpg\")\n",
        "img = cv2.cvtColor(img, cv2.COLOR_BGR2RGB)"
      ],
      "execution_count": null,
      "outputs": []
    },
    {
      "cell_type": "code",
      "metadata": {
        "id": "3eZFFCczTAJ0",
        "colab": {
          "base_uri": "https://localhost:8080/"
        },
        "outputId": "341af963-31c6-44ee-c744-8be34eb4b1b2"
      },
      "source": [
        "# Load model\n",
        "from modules.detection import PAN, draw_bbox\n",
        "\n",
        "config = Config(\"./tool/config/detection/configs.yaml\")\n",
        "model = PAN(config, model_path = \"/content/main/weights/2021-06-16_11-52-23/checkpoint/PANNet_last.pth\")"
      ],
      "execution_count": null,
      "outputs": [
        {
          "output_type": "stream",
          "text": [
            "load pretrained models from imagenet\n"
          ],
          "name": "stdout"
        },
        {
          "output_type": "stream",
          "text": [
            "/usr/local/lib/python3.7/dist-packages/torch/nn/functional.py:3458: UserWarning: Default upsampling behavior when mode=bilinear is changed to align_corners=False since 0.4.0. Please specify align_corners=True if the old behavior is desired. See the documentation of nn.Upsample for details.\n",
            "  \"See the documentation of nn.Upsample for details.\".format(mode)\n"
          ],
          "name": "stderr"
        }
      ]
    },
    {
      "cell_type": "code",
      "metadata": {
        "colab": {
          "base_uri": "https://localhost:8080/",
          "height": 327
        },
        "id": "5XTWm9-ks2_b",
        "outputId": "3c1b1a5d-2b9c-4a85-b2f0-e373d2e7ee9b"
      },
      "source": [
        "# Predict and show result\n",
        "import matplotlib.pyplot as plt\n",
        "\n",
        "_, boxes_list, _ = model.predict(img)\n",
        "res = draw_bbox(img, boxes_list)\n",
        "plt.imshow(res)\n",
        "plt.show()"
      ],
      "execution_count": null,
      "outputs": [
        {
          "output_type": "stream",
          "text": [
            "/usr/local/lib/python3.7/dist-packages/torch/nn/functional.py:3458: UserWarning: Default upsampling behavior when mode=bilinear is changed to align_corners=False since 0.4.0. Please specify align_corners=True if the old behavior is desired. See the documentation of nn.Upsample for details.\n",
            "  \"See the documentation of nn.Upsample for details.\".format(mode)\n"
          ],
          "name": "stderr"
        },
        {
          "output_type": "display_data",
          "data": {
            "image/png": "[encoded data removed]",
            "text/plain": [
              "<Figure size 432x288 with 1 Axes>"
            ]
          },
          "metadata": {
            "tags": [],
            "needs_background": "light"
          }
        }
      ]
    }
  ]
}